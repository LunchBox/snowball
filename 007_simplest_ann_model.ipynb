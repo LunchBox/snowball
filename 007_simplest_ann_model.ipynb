{
 "cells": [
  {
   "cell_type": "markdown",
   "id": "25476ae5-2ce9-467a-aa52-76d1de00dba8",
   "metadata": {},
   "source": [
    "## Simplest ANN Model"
   ]
  },
  {
   "cell_type": "markdown",
   "id": "9e10f0bc-84d5-4403-81cd-037b532ab7c4",
   "metadata": {},
   "source": [
    "1 input layer, 1 output layer, 2 hidden layers"
   ]
  },
  {
   "cell_type": "code",
   "execution_count": 1,
   "id": "05b5a33e-8ce7-45e3-8342-8956d0731f5a",
   "metadata": {},
   "outputs": [],
   "source": [
    "import torch\n",
    "import yfinance as yf\n",
    "import pandas as pd\n",
    "\n",
    "import time\n",
    "\n",
    "from IPython.display import clear_output\n",
    "import matplotlib.pyplot as plt"
   ]
  },
  {
   "cell_type": "code",
   "execution_count": 2,
   "id": "9e00c57b-2bdd-4932-a6be-083c6fd641d9",
   "metadata": {},
   "outputs": [],
   "source": [
    "# prepare device\n",
    "device = torch.device(\"cpu\")\n",
    "if torch.backends.mps.is_available():\n",
    "    device = torch.device(\"mps\")"
   ]
  },
  {
   "cell_type": "code",
   "execution_count": 3,
   "id": "3bd44d2a-d5b0-4f66-b21b-489d6388d550",
   "metadata": {},
   "outputs": [],
   "source": [
    "# print up/down in --o--o- format\n",
    "def puts(arr): print(''.join([\"o\" if x > 0 else '-' for x in arr]))"
   ]
  },
  {
   "cell_type": "code",
   "execution_count": 4,
   "id": "cdd3e27a-2bb8-48a0-9174-d38e24e8d200",
   "metadata": {},
   "outputs": [],
   "source": [
    "tickers = ['^SPX']"
   ]
  },
  {
   "cell_type": "code",
   "execution_count": 5,
   "id": "c9e3c5db-f3a9-4f8d-989f-65afcb0e905a",
   "metadata": {},
   "outputs": [],
   "source": [
    "# 回看過去的窗口\n",
    "rolling_back = 120"
   ]
  },
  {
   "cell_type": "code",
   "execution_count": 6,
   "id": "e0939a6a-1c96-4d3b-8fb6-427ca09f8e59",
   "metadata": {},
   "outputs": [],
   "source": [
    "# 觀察窗口\n",
    "expect_period = 1 # 5min"
   ]
  },
  {
   "cell_type": "code",
   "execution_count": 7,
   "id": "9c7288d0-e4d1-490d-b87d-b74478ba3789",
   "metadata": {},
   "outputs": [],
   "source": [
    "model_path = 'model_friday_5.pt'"
   ]
  },
  {
   "cell_type": "code",
   "execution_count": 8,
   "id": "b6ffeff0-fa38-4e31-8192-e8adfa7c99eb",
   "metadata": {},
   "outputs": [],
   "source": [
    "period = \"60d\"\n",
    "interval = \"5m\""
   ]
  },
  {
   "cell_type": "code",
   "execution_count": 9,
   "id": "ebaf3cc4-520a-47bd-b46f-ecf85f6f9016",
   "metadata": {},
   "outputs": [
    {
     "name": "stderr",
     "output_type": "stream",
     "text": [
      "[*********************100%%**********************]  1 of 1 completed\n"
     ]
    },
    {
     "data": {
      "text/html": [
       "<div>\n",
       "<style scoped>\n",
       "    .dataframe tbody tr th:only-of-type {\n",
       "        vertical-align: middle;\n",
       "    }\n",
       "\n",
       "    .dataframe tbody tr th {\n",
       "        vertical-align: top;\n",
       "    }\n",
       "\n",
       "    .dataframe thead th {\n",
       "        text-align: right;\n",
       "    }\n",
       "</style>\n",
       "<table border=\"1\" class=\"dataframe\">\n",
       "  <thead>\n",
       "    <tr style=\"text-align: right;\">\n",
       "      <th></th>\n",
       "      <th>Open</th>\n",
       "      <th>High</th>\n",
       "      <th>Low</th>\n",
       "      <th>Close</th>\n",
       "      <th>Adj Close</th>\n",
       "      <th>Volume</th>\n",
       "    </tr>\n",
       "    <tr>\n",
       "      <th>Datetime</th>\n",
       "      <th></th>\n",
       "      <th></th>\n",
       "      <th></th>\n",
       "      <th></th>\n",
       "      <th></th>\n",
       "      <th></th>\n",
       "    </tr>\n",
       "  </thead>\n",
       "  <tbody>\n",
       "    <tr>\n",
       "      <th>2023-11-27 09:30:00-05:00</th>\n",
       "      <td>4554.859863</td>\n",
       "      <td>4558.490234</td>\n",
       "      <td>4549.229980</td>\n",
       "      <td>4549.270020</td>\n",
       "      <td>4549.270020</td>\n",
       "      <td>103217197</td>\n",
       "    </tr>\n",
       "    <tr>\n",
       "      <th>2023-11-27 09:35:00-05:00</th>\n",
       "      <td>4549.439941</td>\n",
       "      <td>4550.290039</td>\n",
       "      <td>4546.319824</td>\n",
       "      <td>4549.930176</td>\n",
       "      <td>4549.930176</td>\n",
       "      <td>61565346</td>\n",
       "    </tr>\n",
       "    <tr>\n",
       "      <th>2023-11-27 09:40:00-05:00</th>\n",
       "      <td>4549.990234</td>\n",
       "      <td>4550.229980</td>\n",
       "      <td>4547.899902</td>\n",
       "      <td>4548.669922</td>\n",
       "      <td>4548.669922</td>\n",
       "      <td>58864970</td>\n",
       "    </tr>\n",
       "    <tr>\n",
       "      <th>2023-11-27 09:45:00-05:00</th>\n",
       "      <td>4548.609863</td>\n",
       "      <td>4550.109863</td>\n",
       "      <td>4547.779785</td>\n",
       "      <td>4548.379883</td>\n",
       "      <td>4548.379883</td>\n",
       "      <td>57392900</td>\n",
       "    </tr>\n",
       "    <tr>\n",
       "      <th>2023-11-27 09:50:00-05:00</th>\n",
       "      <td>4548.390137</td>\n",
       "      <td>4549.750000</td>\n",
       "      <td>4546.459961</td>\n",
       "      <td>4549.700195</td>\n",
       "      <td>4549.700195</td>\n",
       "      <td>50223440</td>\n",
       "    </tr>\n",
       "    <tr>\n",
       "      <th>...</th>\n",
       "      <td>...</td>\n",
       "      <td>...</td>\n",
       "      <td>...</td>\n",
       "      <td>...</td>\n",
       "      <td>...</td>\n",
       "      <td>...</td>\n",
       "    </tr>\n",
       "    <tr>\n",
       "      <th>2024-02-22 11:55:00-05:00</th>\n",
       "      <td>5062.350098</td>\n",
       "      <td>5063.379883</td>\n",
       "      <td>5061.759766</td>\n",
       "      <td>5062.350098</td>\n",
       "      <td>5062.350098</td>\n",
       "      <td>18921857</td>\n",
       "    </tr>\n",
       "    <tr>\n",
       "      <th>2024-02-22 12:00:00-05:00</th>\n",
       "      <td>5062.299805</td>\n",
       "      <td>5065.020020</td>\n",
       "      <td>5059.620117</td>\n",
       "      <td>5064.839844</td>\n",
       "      <td>5064.839844</td>\n",
       "      <td>19641884</td>\n",
       "    </tr>\n",
       "    <tr>\n",
       "      <th>2024-02-22 12:05:00-05:00</th>\n",
       "      <td>5064.759766</td>\n",
       "      <td>5066.399902</td>\n",
       "      <td>5064.529785</td>\n",
       "      <td>5066.299805</td>\n",
       "      <td>5066.299805</td>\n",
       "      <td>16965845</td>\n",
       "    </tr>\n",
       "    <tr>\n",
       "      <th>2024-02-22 12:10:00-05:00</th>\n",
       "      <td>5066.330078</td>\n",
       "      <td>5066.560059</td>\n",
       "      <td>5064.500000</td>\n",
       "      <td>5064.649902</td>\n",
       "      <td>5064.649902</td>\n",
       "      <td>17551957</td>\n",
       "    </tr>\n",
       "    <tr>\n",
       "      <th>2024-02-22 12:15:00-05:00</th>\n",
       "      <td>5063.990234</td>\n",
       "      <td>5063.990234</td>\n",
       "      <td>5063.990234</td>\n",
       "      <td>5063.990234</td>\n",
       "      <td>5063.990234</td>\n",
       "      <td>0</td>\n",
       "    </tr>\n",
       "  </tbody>\n",
       "</table>\n",
       "<p>4636 rows × 6 columns</p>\n",
       "</div>"
      ],
      "text/plain": [
       "                                  Open         High          Low        Close  \\\n",
       "Datetime                                                                        \n",
       "2023-11-27 09:30:00-05:00  4554.859863  4558.490234  4549.229980  4549.270020   \n",
       "2023-11-27 09:35:00-05:00  4549.439941  4550.290039  4546.319824  4549.930176   \n",
       "2023-11-27 09:40:00-05:00  4549.990234  4550.229980  4547.899902  4548.669922   \n",
       "2023-11-27 09:45:00-05:00  4548.609863  4550.109863  4547.779785  4548.379883   \n",
       "2023-11-27 09:50:00-05:00  4548.390137  4549.750000  4546.459961  4549.700195   \n",
       "...                                ...          ...          ...          ...   \n",
       "2024-02-22 11:55:00-05:00  5062.350098  5063.379883  5061.759766  5062.350098   \n",
       "2024-02-22 12:00:00-05:00  5062.299805  5065.020020  5059.620117  5064.839844   \n",
       "2024-02-22 12:05:00-05:00  5064.759766  5066.399902  5064.529785  5066.299805   \n",
       "2024-02-22 12:10:00-05:00  5066.330078  5066.560059  5064.500000  5064.649902   \n",
       "2024-02-22 12:15:00-05:00  5063.990234  5063.990234  5063.990234  5063.990234   \n",
       "\n",
       "                             Adj Close     Volume  \n",
       "Datetime                                           \n",
       "2023-11-27 09:30:00-05:00  4549.270020  103217197  \n",
       "2023-11-27 09:35:00-05:00  4549.930176   61565346  \n",
       "2023-11-27 09:40:00-05:00  4548.669922   58864970  \n",
       "2023-11-27 09:45:00-05:00  4548.379883   57392900  \n",
       "2023-11-27 09:50:00-05:00  4549.700195   50223440  \n",
       "...                                ...        ...  \n",
       "2024-02-22 11:55:00-05:00  5062.350098   18921857  \n",
       "2024-02-22 12:00:00-05:00  5064.839844   19641884  \n",
       "2024-02-22 12:05:00-05:00  5066.299805   16965845  \n",
       "2024-02-22 12:10:00-05:00  5064.649902   17551957  \n",
       "2024-02-22 12:15:00-05:00  5063.990234          0  \n",
       "\n",
       "[4636 rows x 6 columns]"
      ]
     },
     "execution_count": 9,
     "metadata": {},
     "output_type": "execute_result"
    }
   ],
   "source": [
    "# # 下載數據，合併成一個 df\n",
    "# if len(tickers) > 1:\n",
    "# \tdfs = yf.download(tickers, period=period, interval=interval, group_by='Ticker')\n",
    "# \tdf_global = pd.concat([dfs[k].add_prefix(k + \"_\") for k in tickers], axis=1)\n",
    "# else:\n",
    "# \tdf_global = yf.download(tickers, period=period, interval=interval).add_prefix(tickers[0] + \"_\")\n",
    "\n",
    "df_global = yf.download(tickers, period=period, interval=interval)\n",
    "df_global"
   ]
  },
  {
   "cell_type": "code",
   "execution_count": 10,
   "id": "732aceee-dbab-48fe-8125-7cc13a0347a3",
   "metadata": {},
   "outputs": [],
   "source": [
    "def prepare_data(df):\n",
    "    # 相對於起始位置的改變\n",
    "    diffs = df.diff(rolling_back).add_suffix(\"_Diff\")\n",
    "    \n",
    "    # diff to N days ago\n",
    "    diffs_9 = df.diff(9).add_suffix(\"_Diff9\")\n",
    "    diffs_17 = df.diff(17).add_suffix(\"_Diff17\")\n",
    "    diffs_26 = df.diff(26).add_suffix(\"_Diff26\")\n",
    "    \n",
    "    hist_diffs = pd.concat([diffs, diffs_9, diffs_17, diffs_26], axis=1)\n",
    "    \n",
    "    # # 同一個 slot 內相對於 Open 的改變\n",
    "    # slot_diffs = []\n",
    "    # for k in tickers:\n",
    "    #     tg = \"Open\"\n",
    "    #     for fg in [\"Close\", \"High\", \"Low\"]:\n",
    "    #         slot_diff = df[\"%s_%s\" % (k, fg)] - df[\"%s_%s\" % (k, tg)] \n",
    "    #         slot_diff.name = \"%s_%s_%s\" % (k, fg, tg)\n",
    "    #         slot_diffs.append(slot_diff)\n",
    "\n",
    "    # slot_diffs = pd.concat(slot_diffs, axis=1)\n",
    "\n",
    "    slot_diffs = pd.DataFrame()\n",
    "    slot_diffs['Close_Open'] = df['Close'] - df['Open']\n",
    "    slot_diffs['High_Open'] = df['High'] - df['Open']\n",
    "    slot_diffs['Low_Open'] = df['Low'] - df['Open']\n",
    "    \n",
    "    all_diffs = pd.concat([hist_diffs, slot_diffs], axis=1).fillna(0)\n",
    "    # print(all_diffs.columns)\n",
    "    \n",
    "    \n",
    "    # 補充一些技術指標\n",
    "    extra_series = []\n",
    "    for k in all_diffs.columns:\n",
    "        for i in [9, 17]:\n",
    "            sma_tg = all_diffs[k].rolling(i).mean()\n",
    "            cross = all_diffs[k] - sma_tg\n",
    "            cross.name = \"%s_SMA_c%d\" % (k, i)\n",
    "            extra_series.append(cross)\n",
    "        \n",
    "        ema12 = all_diffs[k].ewm(span=12, adjust=False).mean()\n",
    "        for i in [26]:\n",
    "            ema_tg = all_diffs[k].ewm(span=i, adjust=False).mean()\n",
    "            macd = ema12 - ema_tg\n",
    "            macd.name = \"%s_MACD_12cross%d\" % (k, i)\n",
    "            extra_series.append(macd)\n",
    "        \n",
    "            macd_signal = macd.ewm(span=9, adjust=False).mean()\n",
    "            macd_signal.name = \"%s_signal\" % macd.name\n",
    "            extra_series.append(macd_signal)\n",
    "    \n",
    "    extra_series = pd.concat(extra_series, axis=1)\n",
    "    \n",
    "    combine = pd.concat([all_diffs, extra_series], axis=1).fillna(0)\n",
    "    # print(combine)\n",
    "    \n",
    "    # 把過去 N 天的數據拉成一行\n",
    "    rolling_back_series = []\n",
    "    for k in combine.columns:\n",
    "        series = pd.Series([w.tolist() for w in combine[k].rolling(rolling_back)], name=k)\n",
    "        rolling_back_series.append(series)\n",
    "    \n",
    "    container = pd.concat(rolling_back_series, axis=1)\n",
    "    # print(container)\n",
    "    \n",
    "    # 每一行合併成一個 list\n",
    "    return container.apply(lambda row: sum(row, []), axis = 1)"
   ]
  },
  {
   "cell_type": "code",
   "execution_count": 11,
   "id": "233be057-002d-45df-8d8d-bd48f9a7f11d",
   "metadata": {},
   "outputs": [],
   "source": [
    "# 舊代碼有點可笑\n",
    "# def prepare_exp(df):\n",
    "# \tclose = df['^SPX_Close'][::-1]    \n",
    "# \tclose = close.rolling(expect_period + 1).apply(lambda x: x.iloc[expect_period] / x.iloc[0]).fillna(0)\n",
    "# \t# 再反回來\n",
    "# \tclose = close[::-1]\n",
    "# \t# 放大信號\n",
    "# \tclose = (close.values - 1) * 500\n",
    "# \t# model 輸出層是 1 個 node\n",
    "# \tclose = [[x] for x in close]\n",
    "# \treturn close"
   ]
  },
  {
   "cell_type": "code",
   "execution_count": 12,
   "id": "fa0a5733-8e2b-47a5-8d7a-107b882772e3",
   "metadata": {},
   "outputs": [],
   "source": [
    "loss_function = torch.nn.MSELoss()\n",
    "# loss_function = torch.nn.L1Loss()\n",
    "# loss_function = torch.nn.BCELoss()\n",
    "\n",
    "def prepare_model(input_size):\n",
    "    # if os.path.isfile(model_path):\n",
    "    #     model = torch.load(model_path).to(device)\n",
    "    #     return model\n",
    "    \n",
    "    sigmoid_layer = torch.nn.Sigmoid()\n",
    "    \n",
    "    layers = []\n",
    "    layers.append(torch.nn.Linear(input_size, 400))\n",
    "    layers.append(sigmoid_layer)\n",
    "    layers.append(torch.nn.Linear(400, 200))\n",
    "    layers.append(sigmoid_layer)\n",
    "    layers.append(torch.nn.Linear(200, 1))\n",
    "    # layers.append(sigmoid_layer)\n",
    "    \n",
    "    model = torch.nn.Sequential(*layers).to(device)\n",
    "    # model = nn_model.MLPClassifier(nn_data.input_size).to(nn_data.device)\n",
    "\n",
    "    # optimizer = torch.optim.SGD(model.parameters(), lr=0.0001, momentum=0.9)\n",
    "    # optimizer = torch.optim.RMSprop(model.parameters(), lr=0.01, alpha=0.99, eps=1e-08, weight_decay=0, momentum=0, centered=False)\n",
    "    optimizer = torch.optim.Adagrad(model.parameters(), lr=0.01, lr_decay=0, weight_decay=0, initial_accumulator_value=0)\n",
    "    # optimizer = torch.optim.Adam(model.parameters(), lr=0.001, betas=(0.9, 0.999), eps=1e-08, weight_decay=0, amsgrad=False)\n",
    "\n",
    "    torch.save(model, model_path)\n",
    "    return model, optimizer\n"
   ]
  },
  {
   "cell_type": "code",
   "execution_count": 13,
   "id": "d4e5a97f-b3ad-46fc-a9d9-6937bd7e4523",
   "metadata": {},
   "outputs": [],
   "source": [
    "def train(epochs, report_period=100):\n",
    "    for epoch in range(epochs):\n",
    "        prediction = model(train_set)\n",
    "        \n",
    "        loss = loss_function(prediction, expect_set)\n",
    "        optimizer.zero_grad()\n",
    "        loss.backward()\n",
    "        optimizer.step()\n",
    "    \n",
    "        if epoch % report_period == 0:\n",
    "            print(epoch, loss.item())\n",
    "            \n",
    "    # save the model\n",
    "    torch.save(model, model_path)"
   ]
  },
  {
   "cell_type": "code",
   "execution_count": 14,
   "id": "52ec463d-74be-4a7f-bc57-0468436dc5fb",
   "metadata": {},
   "outputs": [
    {
     "name": "stdout",
     "output_type": "stream",
     "text": [
      "4636\n"
     ]
    }
   ],
   "source": [
    "train_data = prepare_data(df_global)\n",
    "print(len(train_data))\n",
    "\n",
    "# there is no actual data for the last set of training data\n",
    "train_data = train_data[:-expect_period] \n",
    "train_data = train_data[rolling_back:]\n",
    "# expect_set = torch.Tensor(train_data.values).to(device)\n",
    "\n",
    "# prepare all actual result\n",
    "actual = df_global['Close'].pct_change(expect_period) * 500\n",
    "# 往前移動\n",
    "actual = actual.shift(-expect_period)[:-expect_period]\n",
    "actual = actual.shift(-rolling_back)[:-rolling_back]\n",
    "\n",
    "actual = actual.reset_index(drop=True)\n",
    "actual = [[x] for x in actual]\n",
    "# expect_set = torch.Tensor(actual).to(device)"
   ]
  },
  {
   "cell_type": "code",
   "execution_count": 15,
   "id": "c5ccd1ba-1911-4c9e-b04b-80814c3aadea",
   "metadata": {},
   "outputs": [],
   "source": [
    "# 用前 5 日的數據做相對多次訓練， e.g 5000 次\n",
    "first_batch_size = 390 # 5 days"
   ]
  },
  {
   "cell_type": "code",
   "execution_count": 16,
   "id": "2401991c-af5c-4f88-82a2-82491958b489",
   "metadata": {},
   "outputs": [
    {
     "data": {
      "text/plain": [
       "(4246, 6)"
      ]
     },
     "execution_count": 16,
     "metadata": {},
     "output_type": "execute_result"
    }
   ],
   "source": [
    "df007 = df_global[first_batch_size:]\n",
    "\n",
    "df007.to_csv(\"df007.csv\")\n",
    "\n",
    "df007.shape"
   ]
  },
  {
   "cell_type": "code",
   "execution_count": 17,
   "id": "ced81fb8-175a-4042-8028-3cccc6b4f2eb",
   "metadata": {},
   "outputs": [
    {
     "name": "stdout",
     "output_type": "stream",
     "text": [
      "-- loop 4124 / 4125 --\n",
      "-- check prediction --\n",
      "Error :  3.6351132e-06\n",
      "tensor([[-0.2805]], device='mps:0', grad_fn=<LinearBackward0>)\n",
      "[[-0.06512473531927743]]\n",
      "0 0.00040150046697817743\n",
      "100 0.00019641434482764453\n",
      "200 0.00012065401097061113\n",
      "300 7.801945321261883e-05\n",
      "400 5.186856651562266e-05\n",
      "500 3.512051625875756e-05\n",
      "600 2.410129673080519e-05\n",
      "700 1.6713653167244047e-05\n",
      "--- run time: 3.987460136413574 seconds ---\n"
     ]
    }
   ],
   "source": [
    "hist = []\n",
    "hist_file = \"hist007.csv\"\n",
    "\n",
    "# first batch\n",
    "train_set = torch.Tensor(train_data[:first_batch_size].tolist()).to(device)\n",
    "expect_set = torch.Tensor(actual[:first_batch_size]).to(device)\n",
    "\n",
    "print('-- train set shape: --')\n",
    "print(train_set.shape)\n",
    "print('-- expect set shape: --')\n",
    "print(expect_set.shape)\n",
    "\n",
    "input_size = train_set.shape[1]\n",
    "model, optimizer  = prepare_model(input_size)\n",
    "\n",
    "train(10000, 500)\n",
    "\n",
    "rest = len(train_data) - first_batch_size\n",
    "for i in range(rest):\n",
    "    clear_output(wait=True)\n",
    "    print(\"-- loop %d / %d --\" % (i, rest))\n",
    "\n",
    "    print(\"-- check prediction --\")\n",
    "    predictions = model(train_set)\n",
    "    # print(\"Predictions : \\n\", predictions.detach().cpu())\n",
    "    \n",
    "    error = loss_function(predictions, expect_set)\n",
    "    print(\"Error : \", error.detach().cpu().numpy())\n",
    "\n",
    "    next_idx = first_batch_size + i\n",
    "    last_set = torch.Tensor(train_data[next_idx:next_idx + 1].tolist()).to(device)\n",
    "    last_exp = actual[next_idx:next_idx + 1]\n",
    "    \n",
    "    print(model(last_set))\n",
    "    print(last_exp)\n",
    "    hist.append([model(last_set).tolist()[0][0], last_exp[0][0]])\n",
    "    pd.DataFrame(hist).to_csv(hist_file, index=False)  \n",
    "\n",
    "    train_set = torch.Tensor(train_data[i:first_batch_size + i].tolist()).to(device)\n",
    "    expect_set = torch.Tensor(actual[i:first_batch_size + i]).to(device)\n",
    "\n",
    "    start_time = time.time()\n",
    "    train(800)\n",
    "    print(\"--- run time: %s seconds ---\" % (time.time() - start_time))"
   ]
  },
  {
   "cell_type": "code",
   "execution_count": 18,
   "id": "ea9df165-94c2-4d6c-a7d8-7334aff61a67",
   "metadata": {},
   "outputs": [],
   "source": [
    "L1Loss = torch.nn.L1Loss()\n",
    "MSELoss = torch.nn.MSELoss()"
   ]
  },
  {
   "cell_type": "code",
   "execution_count": 19,
   "id": "a339ebbf-b217-4a52-82b8-6c29ec63a71c",
   "metadata": {},
   "outputs": [
    {
     "name": "stdout",
     "output_type": "stream",
     "text": [
      "tensor(0.3825)\n",
      "tensor(0.2877)\n"
     ]
    }
   ],
   "source": [
    "# check hist diffs\n",
    "hist = pd.read_csv(hist_file)\n",
    "\n",
    "model_result = torch.Tensor(hist.iloc[:, 0])\n",
    "actual_result = torch.Tensor(hist.iloc[:, 1])\n",
    "\n",
    "print(L1Loss(model_result, actual_result))\n",
    "print(MSELoss(model_result, actual_result))"
   ]
  },
  {
   "cell_type": "code",
   "execution_count": 20,
   "id": "dce4a3f3-ba44-4306-b3f7-d874aab75638",
   "metadata": {},
   "outputs": [
    {
     "data": {
      "image/png": "[encoded data removed]",
      "text/plain": [
       "<Figure size 640x480 with 1 Axes>"
      ]
     },
     "metadata": {},
     "output_type": "display_data"
    }
   ],
   "source": [
    "l1loss_hist = []\n",
    "mseloss_hist = []\n",
    "\n",
    "for i in range(hist.shape[0]):\n",
    "    ds = hist[:i]\n",
    "    model_result = torch.Tensor(ds.iloc[:, 0])\n",
    "    actual_result = torch.Tensor(ds.iloc[:, 1])\n",
    "    l1loss_hist.append(L1Loss(model_result, actual_result))\n",
    "    mseloss_hist.append(MSELoss(model_result, actual_result))\n",
    "\n",
    "plt.plot(l1loss_hist, label=\"l1loss\")\n",
    "plt.plot(mseloss_hist, label=\"mseloss\")\n",
    "plt.legend()\n",
    "plt.show()"
   ]
  },
  {
   "cell_type": "code",
   "execution_count": 21,
   "id": "c73b9ecc-1b2c-423c-9343-dd4bdc37bfb8",
   "metadata": {},
   "outputs": [
    {
     "data": {
      "image/png": "[encoded data removed]",
      "text/plain": [
       "<Figure size 640x480 with 1 Axes>"
      ]
     },
     "metadata": {},
     "output_type": "display_data"
    }
   ],
   "source": [
    "plt.plot(hist.iloc[:, 0] - hist.iloc[:, 1])\n",
    "plt.show()"
   ]
  },
  {
   "cell_type": "markdown",
   "id": "86a1aa80-50a0-4e72-ae87-055564cc7715",
   "metadata": {},
   "source": [
    "在 80 左右有一個奇怪的 gap\n",
    "\n",
    "這次用了比較少的數據，效果好像還不錯\n",
    "\n",
    "L1Loss 穩定在 0.3 左右，而 MSELoss 隨著時間越長越來越小，莫非有戲？"
   ]
  }
 ],
 "metadata": {
  "kernelspec": {
   "display_name": "Python 3 (ipykernel)",
   "language": "python",
   "name": "python3"
  },
  "language_info": {
   "codemirror_mode": {
    "name": "ipython",
    "version": 3
   },
   "file_extension": ".py",
   "mimetype": "text/x-python",
   "name": "python",
   "nbconvert_exporter": "python",
   "pygments_lexer": "ipython3",
   "version": "3.10.10"
  }
 },
 "nbformat": 4,
 "nbformat_minor": 5
}
