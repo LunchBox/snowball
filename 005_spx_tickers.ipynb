{
 "cells": [
  {
   "cell_type": "markdown",
   "id": "14514e8b-7033-44ad-9092-09c471e15651",
   "metadata": {},
   "source": [
    "# S&P 500 tickers and information"
   ]
  },
  {
   "cell_type": "markdown",
   "id": "0abbc0c3-535b-4520-8655-3464a7792d8c",
   "metadata": {},
   "source": [
    "> The S&P 500® is widely regarded as the best single gauge of large-cap U.S. equities. The index includes 500 leading companies and covers approximately 80% of available market capitalization."
   ]
  },
  {
   "cell_type": "code",
   "execution_count": 4,
   "id": "620508d4-c8ea-40bb-a098-f93a8dc4042c",
   "metadata": {},
   "outputs": [],
   "source": [
    "import pandas as pd"
   ]
  },
  {
   "cell_type": "code",
   "execution_count": 9,
   "id": "77a1da2c-d22c-4d55-84b2-bbb642b0036d",
   "metadata": {},
   "outputs": [],
   "source": [
    "filename = \"spx_tickers.csv\""
   ]
  },
  {
   "cell_type": "code",
   "execution_count": 10,
   "id": "a1172fcb-5cfd-4c0b-96fc-3573f3d1ddb8",
   "metadata": {},
   "outputs": [],
   "source": [
    "# all spx 500\n",
    "spx_tickers = pd.read_html('https://en.wikipedia.org/wiki/List_of_S%26P_500_companies')[0]\n",
    "spx_tickers.to_csv(filename, index=False)"
   ]
  },
  {
   "cell_type": "code",
   "execution_count": 13,
   "id": "b3d63f9c-fee2-44bd-aef3-f1df3d52f5fc",
   "metadata": {},
   "outputs": [
    {
     "data": {
      "text/plain": [
       "['^SPX', 'MMM', 'AOS', 'ABT', 'ABBV', 'ACN', 'ADBE', 'AMD', 'AES', 'AFL', 'A']"
      ]
     },
     "execution_count": 13,
     "metadata": {},
     "output_type": "execute_result"
    }
   ],
   "source": [
    "ticker_len = 10\n",
    "tickers = [\"^SPX\"] + pd.read_csv(filename).iloc[:ticker_len, 0].tolist()\n",
    "\n",
    "tickers"
   ]
  },
  {
   "cell_type": "markdown",
   "id": "1d420fb3-594d-48af-b146-610910cb3581",
   "metadata": {},
   "source": [
    "to be continued..\n",
    "\n",
    "e.g sort the tickers by some indicators"
   ]
  }
 ],
 "metadata": {
  "kernelspec": {
   "display_name": "Python 3 (ipykernel)",
   "language": "python",
   "name": "python3"
  },
  "language_info": {
   "codemirror_mode": {
    "name": "ipython",
    "version": 3
   },
   "file_extension": ".py",
   "mimetype": "text/x-python",
   "name": "python",
   "nbconvert_exporter": "python",
   "pygments_lexer": "ipython3",
   "version": "3.10.10"
  }
 },
 "nbformat": 4,
 "nbformat_minor": 5
}
