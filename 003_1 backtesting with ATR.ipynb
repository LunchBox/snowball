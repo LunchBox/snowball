{
 "cells": [
  {
   "cell_type": "code",
   "execution_count": 11,
   "id": "467c5456",
   "metadata": {},
   "outputs": [],
   "source": [
    "from backtesting import Backtest, Strategy\n",
    "import yfinance as yf\n",
    "\n",
    "import backtesting\n",
    "backtesting.set_bokeh_output(notebook=False)"
   ]
  },
  {
   "cell_type": "code",
   "execution_count": 12,
   "id": "61aba41c",
   "metadata": {},
   "outputs": [],
   "source": [
    "# https://stackoverflow.com/questions/40256338/calculating-average-true-range-atr-on-ohlc-data-with-python\n",
    "def wwma(values, n):\n",
    "    \"\"\"\n",
    "        J. Welles Wilder's EMA \n",
    "    \"\"\"\n",
    "    return values.ewm(alpha=1/n, adjust=False).mean()\n",
    "\n",
    "def atr(df, n=14):\n",
    "    data = df.copy()\n",
    "    high = data.High\n",
    "    low = data.Low\n",
    "    close = data.Close\n",
    "    data['tr0'] = abs(high - low)\n",
    "    data['tr1'] = abs(high - close.shift())\n",
    "    data['tr2'] = abs(low - close.shift())\n",
    "    tr = data[['tr0', 'tr1', 'tr2']].max(axis=1)\n",
    "    atr = wwma(tr, n)\n",
    "    return atr"
   ]
  },
  {
   "cell_type": "code",
   "execution_count": 13,
   "id": "ef3c5ea1",
   "metadata": {},
   "outputs": [],
   "source": [
    "class FallUp(Strategy):\n",
    "    def init(self):\n",
    "        self.down_days = 0\n",
    "        self.hold_days = 0\n",
    "\n",
    "    def next(self):\n",
    "        # close price of previous day\n",
    "        pv = self.data.Close[-2]\n",
    "\n",
    "        # close price of current day\n",
    "        cv = self.data.Close[-1]\n",
    "\n",
    "        # consecutively falling 3 times and reversal, buy-in\n",
    "        if self.down_days >= 5 and cv > pv and self.data['atr'] > 4:\n",
    "            self.buy()\n",
    "            self.hold_days = 0\n",
    "            self.down_days_after_position = 0\n",
    "\n",
    "        # record falling times\n",
    "        if cv < pv:\n",
    "            self.down_days += 1\n",
    "        else:\n",
    "            self.down_days = 0\n",
    "\n",
    "        if self.position:\n",
    "            self.hold_days += 1\n",
    "\n",
    "            # record falling times after position\n",
    "            if cv < pv:\n",
    "                self.down_days_after_position += 1\n",
    "\n",
    "            if self.down_days > 1:\n",
    "                self.position.close()\n",
    "\n",
    "            # with position, falling once within 4 times, close the position\n",
    "            if self.hold_days <= 4 and self.down_days_after_position > 0:\n",
    "                self.position.close()"
   ]
  },
  {
   "cell_type": "code",
   "execution_count": 16,
   "id": "0a9e7f9b",
   "metadata": {},
   "outputs": [
    {
     "name": "stderr",
     "output_type": "stream",
     "text": [
      "[*********************100%%**********************]  1 of 1 completed\n"
     ]
    }
   ],
   "source": [
    "data = yf.download(\"^SPX\", period=\"60d\", interval=\"5m\")\n",
    "data['atr'] = atr(data)\n",
    "\n",
    "bt = Backtest(\n",
    "    data, \n",
    "\n",
    "    # Strategy\n",
    "    FallUp, \n",
    "\n",
    "    # Commission\n",
    "    commission=.002, \n",
    "\n",
    "    # market orders will be filled with respect to the current bar's closing price instead of the next bar's open.\n",
    "    trade_on_close=True,\n",
    "\n",
    "    # new order auto-closes the previous trade/position, making at most a single trade (long or short) in effect at each time\n",
    "    exclusive_orders=True \n",
    ")\n",
    "\n",
    "stats = bt.run()"
   ]
  },
  {
   "cell_type": "code",
   "execution_count": 17,
   "id": "bc14dce7",
   "metadata": {},
   "outputs": [
    {
     "name": "stdout",
     "output_type": "stream",
     "text": [
      "Start                     2023-11-27 09:30...\n",
      "End                       2024-02-16 15:55...\n",
      "Duration                     81 days 06:25:00\n",
      "Exposure Time [%]                    0.899685\n",
      "Equity Final [$]                  9737.898551\n",
      "Equity Peak [$]                       10000.0\n",
      "Return [%]                          -2.621014\n",
      "Buy & Hold Return [%]               10.020946\n",
      "Return (Ann.) [%]                  -11.079019\n",
      "Volatility (Ann.) [%]                1.314512\n",
      "Sharpe Ratio                              0.0\n",
      "Sortino Ratio                             0.0\n",
      "Calmar Ratio                              0.0\n",
      "Max. Drawdown [%]                   -2.621014\n",
      "Avg. Drawdown [%]                   -2.621014\n",
      "Max. Drawdown Duration       79 days 05:30:00\n",
      "Avg. Drawdown Duration       79 days 05:30:00\n",
      "# Trades                                   16\n",
      "Win Rate [%]                              0.0\n",
      "Best Trade [%]                      -0.113336\n",
      "Worst Trade [%]                     -0.317105\n",
      "Avg. Trade [%]                       -0.21587\n",
      "Max. Trade Duration           0 days 00:15:00\n",
      "Avg. Trade Duration           0 days 00:08:00\n",
      "Profit Factor                             0.0\n",
      "Expectancy [%]                      -0.215856\n",
      "SQN                                -11.418405\n",
      "_strategy                              FallUp\n",
      "_equity_curve                             ...\n",
      "_trades                       Size  EntryB...\n",
      "dtype: object\n"
     ]
    }
   ],
   "source": [
    "print(stats)"
   ]
  },
  {
   "cell_type": "code",
   "execution_count": 3,
   "id": "0720792a",
   "metadata": {},
   "outputs": [
    {
     "ename": "NameError",
     "evalue": "name 'stats' is not defined",
     "output_type": "error",
     "traceback": [
      "\u001b[0;31m---------------------------------------------------------------------------\u001b[0m",
      "\u001b[0;31mNameError\u001b[0m                                 Traceback (most recent call last)",
      "Cell \u001b[0;32mIn[3], line 1\u001b[0m\n\u001b[0;32m----> 1\u001b[0m \u001b[38;5;28mprint\u001b[39m(\u001b[43mstats\u001b[49m\u001b[38;5;241m.\u001b[39m_trades)\n",
      "\u001b[0;31mNameError\u001b[0m: name 'stats' is not defined"
     ]
    }
   ],
   "source": [
    "print(stats._trades)"
   ]
  },
  {
   "cell_type": "code",
   "execution_count": 15,
   "id": "555f0d39",
   "metadata": {},
   "outputs": [
    {
     "name": "stderr",
     "output_type": "stream",
     "text": [
      "/Users/kimfaicheang/workspace/snowball/venv/lib/python3.10/site-packages/backtesting/_plotting.py:455: FutureWarning: 'H' is deprecated and will be removed in a future version, please use 'h' instead.\n",
      "  df2 = (df.assign(_width=1).set_index('datetime')\n"
     ]
    },
    {
     "data": {
      "text/html": [
       "<div style=\"display: table;\"><div style=\"display: table-row;\"><div style=\"display: table-cell;\"><b title=\"bokeh.models.layouts.Row\">Row</b>(</div><div style=\"display: table-cell;\">id&nbsp;=&nbsp;'3808', <span id=\"4422\" style=\"cursor: pointer;\">&hellip;)</span></div></div><div class=\"4421\" style=\"display: none;\"><div style=\"display: table-cell;\"></div><div style=\"display: table-cell;\">align&nbsp;=&nbsp;'start',</div></div><div class=\"4421\" style=\"display: none;\"><div style=\"display: table-cell;\"></div><div style=\"display: table-cell;\">aspect_ratio&nbsp;=&nbsp;None,</div></div><div class=\"4421\" style=\"display: none;\"><div style=\"display: table-cell;\"></div><div style=\"display: table-cell;\">background&nbsp;=&nbsp;None,</div></div><div class=\"4421\" style=\"display: none;\"><div style=\"display: table-cell;\"></div><div style=\"display: table-cell;\">children&nbsp;=&nbsp;[GridBox(id='3805', ...), ToolbarBox(id='3807', ...)],</div></div><div class=\"4421\" style=\"display: none;\"><div style=\"display: table-cell;\"></div><div style=\"display: table-cell;\">cols&nbsp;=&nbsp;'auto',</div></div><div class=\"4421\" style=\"display: none;\"><div style=\"display: table-cell;\"></div><div style=\"display: table-cell;\">css_classes&nbsp;=&nbsp;[],</div></div><div class=\"4421\" style=\"display: none;\"><div style=\"display: table-cell;\"></div><div style=\"display: table-cell;\">disabled&nbsp;=&nbsp;False,</div></div><div class=\"4421\" style=\"display: none;\"><div style=\"display: table-cell;\"></div><div style=\"display: table-cell;\">height&nbsp;=&nbsp;None,</div></div><div class=\"4421\" style=\"display: none;\"><div style=\"display: table-cell;\"></div><div style=\"display: table-cell;\">height_policy&nbsp;=&nbsp;'auto',</div></div><div class=\"4421\" style=\"display: none;\"><div style=\"display: table-cell;\"></div><div style=\"display: table-cell;\">js_event_callbacks&nbsp;=&nbsp;{},</div></div><div class=\"4421\" style=\"display: none;\"><div style=\"display: table-cell;\"></div><div style=\"display: table-cell;\">js_property_callbacks&nbsp;=&nbsp;{},</div></div><div class=\"4421\" style=\"display: none;\"><div style=\"display: table-cell;\"></div><div style=\"display: table-cell;\">margin&nbsp;=&nbsp;(0, 0, 0, 0),</div></div><div class=\"4421\" style=\"display: none;\"><div style=\"display: table-cell;\"></div><div style=\"display: table-cell;\">max_height&nbsp;=&nbsp;None,</div></div><div class=\"4421\" style=\"display: none;\"><div style=\"display: table-cell;\"></div><div style=\"display: table-cell;\">max_width&nbsp;=&nbsp;None,</div></div><div class=\"4421\" style=\"display: none;\"><div style=\"display: table-cell;\"></div><div style=\"display: table-cell;\">min_height&nbsp;=&nbsp;None,</div></div><div class=\"4421\" style=\"display: none;\"><div style=\"display: table-cell;\"></div><div style=\"display: table-cell;\">min_width&nbsp;=&nbsp;None,</div></div><div class=\"4421\" style=\"display: none;\"><div style=\"display: table-cell;\"></div><div style=\"display: table-cell;\">name&nbsp;=&nbsp;None,</div></div><div class=\"4421\" style=\"display: none;\"><div style=\"display: table-cell;\"></div><div style=\"display: table-cell;\">sizing_mode&nbsp;=&nbsp;'stretch_width',</div></div><div class=\"4421\" style=\"display: none;\"><div style=\"display: table-cell;\"></div><div style=\"display: table-cell;\">spacing&nbsp;=&nbsp;0,</div></div><div class=\"4421\" style=\"display: none;\"><div style=\"display: table-cell;\"></div><div style=\"display: table-cell;\">subscribed_events&nbsp;=&nbsp;[],</div></div><div class=\"4421\" style=\"display: none;\"><div style=\"display: table-cell;\"></div><div style=\"display: table-cell;\">syncable&nbsp;=&nbsp;True,</div></div><div class=\"4421\" style=\"display: none;\"><div style=\"display: table-cell;\"></div><div style=\"display: table-cell;\">tags&nbsp;=&nbsp;[],</div></div><div class=\"4421\" style=\"display: none;\"><div style=\"display: table-cell;\"></div><div style=\"display: table-cell;\">visible&nbsp;=&nbsp;True,</div></div><div class=\"4421\" style=\"display: none;\"><div style=\"display: table-cell;\"></div><div style=\"display: table-cell;\">width&nbsp;=&nbsp;None,</div></div><div class=\"4421\" style=\"display: none;\"><div style=\"display: table-cell;\"></div><div style=\"display: table-cell;\">width_policy&nbsp;=&nbsp;'auto')</div></div></div>\n",
       "<script>\n",
       "(function() {\n",
       "  let expanded = false;\n",
       "  const ellipsis = document.getElementById(\"4422\");\n",
       "  ellipsis.addEventListener(\"click\", function() {\n",
       "    const rows = document.getElementsByClassName(\"4421\");\n",
       "    for (let i = 0; i < rows.length; i++) {\n",
       "      const el = rows[i];\n",
       "      el.style.display = expanded ? \"none\" : \"table-row\";\n",
       "    }\n",
       "    ellipsis.innerHTML = expanded ? \"&hellip;)\" : \"&lsaquo;&lsaquo;&lsaquo;\";\n",
       "    expanded = !expanded;\n",
       "  });\n",
       "})();\n",
       "</script>\n"
      ],
      "text/plain": [
       "Row(id='3808', ...)"
      ]
     },
     "execution_count": 15,
     "metadata": {},
     "output_type": "execute_result"
    }
   ],
   "source": [
    "bt.plot()"
   ]
  }
 ],
 "metadata": {
  "kernelspec": {
   "display_name": "venv",
   "language": "python",
   "name": "venv"
  },
  "language_info": {
   "codemirror_mode": {
    "name": "ipython",
    "version": 3
   },
   "file_extension": ".py",
   "mimetype": "text/x-python",
   "name": "python",
   "nbconvert_exporter": "python",
   "pygments_lexer": "ipython3",
   "version": "3.10.10"
  }
 },
 "nbformat": 4,
 "nbformat_minor": 5
}
